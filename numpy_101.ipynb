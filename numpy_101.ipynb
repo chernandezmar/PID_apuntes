{
 "cells": [
  {
   "cell_type": "markdown",
   "id": "fe6318c8-b9f2-4b26-be12-26cf98942ef0",
   "metadata": {},
   "source": [
    "# NumPy (Numerical Python) \n",
    "\n",
    "es una biblioteca fundamental para la computación científica en Python. Proporciona soporte para el manejo de arreglos y matrices multidimensionales, además de una gran colección de funciones matemáticas y estadísticas para operar sobre estos arreglos de manera eficiente.\n",
    "\n",
    "Algunas de las principales características de NumPy son:\n",
    "\n",
    "    - ndarray (arreglos n-dimensionales): El objeto central de NumPy es el ndarray, que es un arreglo multidimensional de elementos homogéneos, como mencionamos antes. Este tipo de arreglo es mucho más eficiente en términos de velocidad y uso de memoria en comparación con las listas tradicionales de Python.\n",
    "\n",
    "    - Funciones matemáticas: NumPy incluye una gran variedad de funciones para realizar operaciones elementales y avanzadas sobre arreglos, como operaciones algebraicas, estadísticas, y transformadas como la transformada rápida de Fourier (FFT).\n",
    "\n",
    "    - Broadcasting: Permite realizar operaciones matemáticas en arreglos de diferentes formas de manera automática, sin la necesidad de realizar manualmente transformaciones de los tamaños de los arreglos.\n",
    "\n",
    "    - Integración con otras bibliotecas: NumPy es la base para muchas otras bibliotecas de análisis y computación científica en Python, como SciPy, Pandas, Matplotlib, y TensorFlow.\n",
    "\n",
    "    - Alto rendimiento: Está implementado en C y Fortran, lo que lo hace muy eficiente en operaciones numéricas pesadas, especialmente cuando se trabaja con grandes volúmenes de datos."
   ]
  },
  {
   "cell_type": "code",
   "execution_count": 1,
   "id": "825e714f-7871-457e-a115-115079379fb9",
   "metadata": {},
   "outputs": [
    {
     "name": "stdout",
     "output_type": "stream",
     "text": [
      "[1, 2, 3, 4, 5]\n",
      "[ 1  2  3  4  5  6  7  8  9 10]\n"
     ]
    }
   ],
   "source": [
    "import numpy as np\n",
    "\n",
    "# Crear un arreglo de 1 a 10\n",
    "arr1 = [1,2,3,4,5]\n",
    "\n",
    "print (arr1)\n",
    "\n",
    "arr = np.arange(1, 11)\n",
    "\n",
    "print (arr)\n",
    "\n"
   ]
  },
  {
   "cell_type": "code",
   "execution_count": 6,
   "id": "e96fb5c9-9500-4dd7-b12e-46ee03f6c2bc",
   "metadata": {},
   "outputs": [
    {
     "name": "stdout",
     "output_type": "stream",
     "text": [
      "[  1   4   9  16  25  36  49  64  81 100]\n"
     ]
    }
   ],
   "source": [
    "cuadrados = arr ** 2\n",
    "\n",
    "print (cuadrados)"
   ]
  }
 ],
 "metadata": {
  "kernelspec": {
   "display_name": "Python 3 (ipykernel)",
   "language": "python",
   "name": "python3"
  },
  "language_info": {
   "codemirror_mode": {
    "name": "ipython",
    "version": 3
   },
   "file_extension": ".py",
   "mimetype": "text/x-python",
   "name": "python",
   "nbconvert_exporter": "python",
   "pygments_lexer": "ipython3",
   "version": "3.12.3"
  }
 },
 "nbformat": 4,
 "nbformat_minor": 5
}
